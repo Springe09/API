{
 "cells": [
  {
   "cell_type": "markdown",
   "metadata": {},
   "source": [
    "# Unit 5 - Financial Planning"
   ]
  },
  {
   "cell_type": "code",
   "execution_count": 1,
   "metadata": {},
   "outputs": [],
   "source": [
    "# Initial imports\n",
    "import os\n",
    "import requests\n",
    "import pandas as pd\n",
    "from dotenv import load_dotenv\n",
    "import alpaca_trade_api as tradeapi\n",
    "from MCForecastTools import MCSimulation\n",
    "import json\n",
    "\n",
    "%matplotlib inline"
   ]
  },
  {
   "cell_type": "code",
   "execution_count": 2,
   "metadata": {},
   "outputs": [
    {
     "data": {
      "text/plain": [
       "True"
      ]
     },
     "execution_count": 2,
     "metadata": {},
     "output_type": "execute_result"
    }
   ],
   "source": [
    "# Load .env enviroment variables\n",
    "load_dotenv()"
   ]
  },
  {
   "cell_type": "markdown",
   "metadata": {},
   "source": [
    "## Part 1 - Personal Finance Planner"
   ]
  },
  {
   "cell_type": "markdown",
   "metadata": {},
   "source": [
    "### Collect Crypto Prices Using the `requests` Library"
   ]
  },
  {
   "cell_type": "code",
   "execution_count": 3,
   "metadata": {},
   "outputs": [],
   "source": [
    "# Set current amount of crypto assets\n",
    "my_btc=1.2\n",
    "my_eth=5.3"
   ]
  },
  {
   "cell_type": "code",
   "execution_count": 4,
   "metadata": {},
   "outputs": [],
   "source": [
    "# Crypto API URLs\n",
    "btc_url = \"https://api.alternative.me/v2/ticker/Bitcoin/?convert=CAD\"\n",
    "eth_url = \"https://api.alternative.me/v2/ticker/Ethereum/?convert=CAD\""
   ]
  },
  {
   "cell_type": "code",
   "execution_count": 5,
   "metadata": {},
   "outputs": [
    {
     "name": "stdout",
     "output_type": "stream",
     "text": [
      "The current value of your 1.2 BTC is $43719.60\n",
      "The current value of your 5.3 ETH is $12815.13\n"
     ]
    }
   ],
   "source": [
    "# Fetch current BTC price\n",
    "\n",
    "btc_data=requests.get(btc_url)\n",
    "#btc_content = btc_data.content\n",
    "btc=btc_data.json()\n",
    "#print(json.dumps(btc,indent=4))\n",
    "# Fetch current ETH price\n",
    "\n",
    "eth_data=requests.get(eth_url)\n",
    "#eth_content = eth_data.content\n",
    "eth=eth_data.json()\n",
    "#print(json.dumps(eth,indent=4))\n",
    "\n",
    "# Compute current value crpto\n",
    "current_btc_value= btc['data'][\"1\"][\"quotes\"][\"USD\"][\"price\"]\n",
    "my_btc_value= current_btc_value * my_btc\n",
    "#print(my_btc_value)\n",
    "\n",
    "current_eth_value= eth['data'][\"1027\"][\"quotes\"][\"USD\"][\"price\"]\n",
    "my_eth_value= current_eth_value * my_eth\n",
    "#print(my_eth_value)\n",
    "# Print current crypto wallet balance\n",
    "print(f\"The current value of your {my_btc} BTC is ${my_btc_value:0.2f}\")\n",
    "print(f\"The current value of your {my_eth} ETH is ${my_eth_value:0.2f}\")"
   ]
  },
  {
   "cell_type": "markdown",
   "metadata": {},
   "source": [
    "### Collect Investments Data Using Alpaca: `SPY` (stocks) and `AGG` (bonds)"
   ]
  },
  {
   "cell_type": "code",
   "execution_count": 6,
   "metadata": {},
   "outputs": [],
   "source": [
    "# Set current amount of shares\n",
    "my_agg = 200\n",
    "my_spy = 50"
   ]
  },
  {
   "cell_type": "code",
   "execution_count": 7,
   "metadata": {},
   "outputs": [
    {
     "data": {
      "text/html": [
       "<div>\n",
       "<style scoped>\n",
       "    .dataframe tbody tr th:only-of-type {\n",
       "        vertical-align: middle;\n",
       "    }\n",
       "\n",
       "    .dataframe tbody tr th {\n",
       "        vertical-align: top;\n",
       "    }\n",
       "\n",
       "    .dataframe thead tr th {\n",
       "        text-align: left;\n",
       "    }\n",
       "\n",
       "    .dataframe thead tr:last-of-type th {\n",
       "        text-align: right;\n",
       "    }\n",
       "</style>\n",
       "<table border=\"1\" class=\"dataframe\">\n",
       "  <thead>\n",
       "    <tr>\n",
       "      <th></th>\n",
       "      <th colspan=\"5\" halign=\"left\">AGG</th>\n",
       "      <th colspan=\"5\" halign=\"left\">SPY</th>\n",
       "    </tr>\n",
       "    <tr>\n",
       "      <th></th>\n",
       "      <th>open</th>\n",
       "      <th>high</th>\n",
       "      <th>low</th>\n",
       "      <th>close</th>\n",
       "      <th>volume</th>\n",
       "      <th>open</th>\n",
       "      <th>high</th>\n",
       "      <th>low</th>\n",
       "      <th>close</th>\n",
       "      <th>volume</th>\n",
       "    </tr>\n",
       "    <tr>\n",
       "      <th>time</th>\n",
       "      <th></th>\n",
       "      <th></th>\n",
       "      <th></th>\n",
       "      <th></th>\n",
       "      <th></th>\n",
       "      <th></th>\n",
       "      <th></th>\n",
       "      <th></th>\n",
       "      <th></th>\n",
       "      <th></th>\n",
       "    </tr>\n",
       "  </thead>\n",
       "  <tbody>\n",
       "    <tr>\n",
       "      <th>2022-01-18 00:00:00-05:00</th>\n",
       "      <td>111.8100</td>\n",
       "      <td>111.86</td>\n",
       "      <td>111.47</td>\n",
       "      <td>111.49</td>\n",
       "      <td>7390142.0</td>\n",
       "      <td>459.73</td>\n",
       "      <td>459.9600</td>\n",
       "      <td>455.31</td>\n",
       "      <td>456.53</td>\n",
       "      <td>95565773.0</td>\n",
       "    </tr>\n",
       "    <tr>\n",
       "      <th>2022-01-19 00:00:00-05:00</th>\n",
       "      <td>111.7000</td>\n",
       "      <td>111.89</td>\n",
       "      <td>111.65</td>\n",
       "      <td>111.71</td>\n",
       "      <td>7641972.0</td>\n",
       "      <td>458.17</td>\n",
       "      <td>459.6124</td>\n",
       "      <td>451.46</td>\n",
       "      <td>451.79</td>\n",
       "      <td>95311817.0</td>\n",
       "    </tr>\n",
       "    <tr>\n",
       "      <th>2022-01-20 00:00:00-05:00</th>\n",
       "      <td>111.8400</td>\n",
       "      <td>111.90</td>\n",
       "      <td>111.75</td>\n",
       "      <td>111.79</td>\n",
       "      <td>6861797.0</td>\n",
       "      <td>453.75</td>\n",
       "      <td>458.7400</td>\n",
       "      <td>444.50</td>\n",
       "      <td>446.79</td>\n",
       "      <td>105009751.0</td>\n",
       "    </tr>\n",
       "    <tr>\n",
       "      <th>2022-01-21 00:00:00-05:00</th>\n",
       "      <td>112.1900</td>\n",
       "      <td>112.35</td>\n",
       "      <td>112.11</td>\n",
       "      <td>112.24</td>\n",
       "      <td>7792653.0</td>\n",
       "      <td>445.56</td>\n",
       "      <td>448.0600</td>\n",
       "      <td>437.97</td>\n",
       "      <td>438.11</td>\n",
       "      <td>174541929.0</td>\n",
       "    </tr>\n",
       "    <tr>\n",
       "      <th>2022-01-24 00:00:00-05:00</th>\n",
       "      <td>112.3814</td>\n",
       "      <td>112.42</td>\n",
       "      <td>112.10</td>\n",
       "      <td>112.12</td>\n",
       "      <td>10666672.0</td>\n",
       "      <td>432.03</td>\n",
       "      <td>440.3800</td>\n",
       "      <td>420.76</td>\n",
       "      <td>439.88</td>\n",
       "      <td>233026938.0</td>\n",
       "    </tr>\n",
       "  </tbody>\n",
       "</table>\n",
       "</div>"
      ],
      "text/plain": [
       "                                AGG                                      \\\n",
       "                               open    high     low   close      volume   \n",
       "time                                                                      \n",
       "2022-01-18 00:00:00-05:00  111.8100  111.86  111.47  111.49   7390142.0   \n",
       "2022-01-19 00:00:00-05:00  111.7000  111.89  111.65  111.71   7641972.0   \n",
       "2022-01-20 00:00:00-05:00  111.8400  111.90  111.75  111.79   6861797.0   \n",
       "2022-01-21 00:00:00-05:00  112.1900  112.35  112.11  112.24   7792653.0   \n",
       "2022-01-24 00:00:00-05:00  112.3814  112.42  112.10  112.12  10666672.0   \n",
       "\n",
       "                              SPY                                         \n",
       "                             open      high     low   close       volume  \n",
       "time                                                                      \n",
       "2022-01-18 00:00:00-05:00  459.73  459.9600  455.31  456.53   95565773.0  \n",
       "2022-01-19 00:00:00-05:00  458.17  459.6124  451.46  451.79   95311817.0  \n",
       "2022-01-20 00:00:00-05:00  453.75  458.7400  444.50  446.79  105009751.0  \n",
       "2022-01-21 00:00:00-05:00  445.56  448.0600  437.97  438.11  174541929.0  \n",
       "2022-01-24 00:00:00-05:00  432.03  440.3800  420.76  439.88  233026938.0  "
      ]
     },
     "execution_count": 7,
     "metadata": {},
     "output_type": "execute_result"
    }
   ],
   "source": [
    "# Set Alpaca API key and secret\n",
    "alpaca_api_key = os.getenv(\"ALPACA_API_KEY\")\n",
    "alpaca_secret_key = os.getenv(\"ALPACA_SECRET_KEY\")\n",
    "\n",
    "# Create the Alpaca API object\n",
    "alpaca = tradeapi.REST(\n",
    "    alpaca_api_key,\n",
    "    alpaca_secret_key,\n",
    "    api_version=\"v2\")\n",
    "\n",
    "# Format current date as ISO format\n",
    "today = pd.Timestamp(\"2022-01-24\", tz=\"America/New_York\").isoformat()\n",
    "\n",
    "# Set the tickers\n",
    "tickers = [\"AGG\", \"SPY\"]\n",
    "\n",
    "# Set timeframe to '1D' for Alpaca API\n",
    "timeframe = \"1D\"\n",
    "\n",
    "# Get current closing prices for SPY and AGG\n",
    "df_portfolio = alpaca.get_barset(\n",
    "    tickers,\n",
    "    timeframe,\n",
    "    limit=1000,\n",
    ").df\n",
    "\n",
    "\n",
    "# Preview DataFrame\n",
    "df_portfolio.tail()"
   ]
  },
  {
   "cell_type": "code",
   "execution_count": 8,
   "metadata": {},
   "outputs": [
    {
     "name": "stdout",
     "output_type": "stream",
     "text": [
      "Current AGG closing price: $112.24\n",
      "Current SPY closing price: $438.11\n"
     ]
    }
   ],
   "source": [
    "# Pick AGG and SPY close prices\n",
    "agg_close_price=df_portfolio['AGG']['close'][999]\n",
    "spy_close_price=df_portfolio['SPY']['close'][999]\n",
    "# Print AGG and SPY close prices\n",
    "print(f\"Current AGG closing price: ${agg_close_price}\")\n",
    "print(f\"Current SPY closing price: ${spy_close_price}\")"
   ]
  },
  {
   "cell_type": "code",
   "execution_count": 9,
   "metadata": {},
   "outputs": [
    {
     "name": "stdout",
     "output_type": "stream",
     "text": [
      "The current value of your 50 SPY shares is $21905.50\n",
      "The current value of your 200 AGG shares is $22448.00\n"
     ]
    }
   ],
   "source": [
    "# Compute the current value of shares\n",
    "my_spy_value=spy_close_price * my_spy \n",
    "my_agg_value=agg_close_price * my_agg\n",
    "# Print current value of shares\n",
    "print(f\"The current value of your {my_spy} SPY shares is ${my_spy_value:0.2f}\")\n",
    "print(f\"The current value of your {my_agg} AGG shares is ${my_agg_value:0.2f}\")"
   ]
  },
  {
   "cell_type": "markdown",
   "metadata": {},
   "source": [
    "### Savings Health Analysis"
   ]
  },
  {
   "cell_type": "code",
   "execution_count": 10,
   "metadata": {},
   "outputs": [
    {
     "data": {
      "text/html": [
       "<div>\n",
       "<style scoped>\n",
       "    .dataframe tbody tr th:only-of-type {\n",
       "        vertical-align: middle;\n",
       "    }\n",
       "\n",
       "    .dataframe tbody tr th {\n",
       "        vertical-align: top;\n",
       "    }\n",
       "\n",
       "    .dataframe thead th {\n",
       "        text-align: right;\n",
       "    }\n",
       "</style>\n",
       "<table border=\"1\" class=\"dataframe\">\n",
       "  <thead>\n",
       "    <tr style=\"text-align: right;\">\n",
       "      <th></th>\n",
       "      <th>amount</th>\n",
       "    </tr>\n",
       "  </thead>\n",
       "  <tbody>\n",
       "    <tr>\n",
       "      <th>crypto</th>\n",
       "      <td>56534.735</td>\n",
       "    </tr>\n",
       "    <tr>\n",
       "      <th>shares</th>\n",
       "      <td>44353.500</td>\n",
       "    </tr>\n",
       "  </tbody>\n",
       "</table>\n",
       "</div>"
      ],
      "text/plain": [
       "           amount\n",
       "crypto  56534.735\n",
       "shares  44353.500"
      ]
     },
     "metadata": {},
     "output_type": "display_data"
    }
   ],
   "source": [
    "# Set monthly household income\n",
    "monthly_income= 12000\n",
    "\n",
    "# Consolidate financial assets data\n",
    "total_crypto=my_btc_value+my_eth_value\n",
    "total_shares=my_spy_value+my_agg_value\n",
    "totals=[total_crypto,total_shares]\n",
    "totals\n",
    "# Create savings DataFrame\n",
    "df_savings = pd.DataFrame(totals, index=['crypto','shares'], columns=['amount'])\n",
    "\n",
    "# Display savings DataFrame\n",
    "display(df_savings)"
   ]
  },
  {
   "cell_type": "code",
   "execution_count": 11,
   "metadata": {},
   "outputs": [
    {
     "data": {
      "text/plain": [
       "<AxesSubplot:title={'center':'Personal Savings'}, ylabel='amount'>"
      ]
     },
     "execution_count": 11,
     "metadata": {},
     "output_type": "execute_result"
    },
    {
     "data": {
      "image/png": "[encoded data removed]",
      "text/plain": [
       "<Figure size 432x288 with 1 Axes>"
      ]
     },
     "metadata": {},
     "output_type": "display_data"
    }
   ],
   "source": [
    "# Plot savings pie chart\n",
    "df_savings.plot.pie(y='amount',title=\"Personal Savings\")"
   ]
  },
  {
   "cell_type": "code",
   "execution_count": 12,
   "metadata": {},
   "outputs": [
    {
     "name": "stdout",
     "output_type": "stream",
     "text": [
      "Congratulations. You have enough money in this fund.\n"
     ]
    }
   ],
   "source": [
    "# Set ideal emergency fund\n",
    "emergency_fund = monthly_income * 3\n",
    "\n",
    "# Calculate total amount of savings\n",
    "total_savings=total_crypto+total_shares\n",
    "\n",
    "# Validate saving here\n",
    "if(total_savings>emergency_fund):\n",
    "    print(\"Congratulations. You have enough money in this fund.\")\n",
    "elif(total_savings==emergency_fund):\n",
    "    print(\"Congratulations. You've reached your financial goal.\")\n",
    "else:\n",
    "    difference=emergency_fund-total_savings\n",
    "    print(\"You are ${difference} from your financial goal.\")\n",
    "    \n",
    "    "
   ]
  },
  {
   "cell_type": "markdown",
   "metadata": {},
   "source": [
    "## Part 2 - Retirement Planning\n",
    "\n",
    "### Monte Carlo Simulation"
   ]
  },
  {
   "cell_type": "code",
   "execution_count": 13,
   "metadata": {},
   "outputs": [],
   "source": [
    "# Set start and end dates of five years back from today.\n",
    "# Sample results may vary from the solution based on the time frame chosen\n",
    "start_date = pd.Timestamp('2017-01-24', tz='America/New_York').isoformat()\n",
    "end_date = pd.Timestamp('2022-01-24', tz='America/New_York').isoformat()"
   ]
  },
  {
   "cell_type": "code",
   "execution_count": 18,
   "metadata": {},
   "outputs": [
    {
     "data": {
      "text/html": [
       "<div>\n",
       "<style scoped>\n",
       "    .dataframe tbody tr th:only-of-type {\n",
       "        vertical-align: middle;\n",
       "    }\n",
       "\n",
       "    .dataframe tbody tr th {\n",
       "        vertical-align: top;\n",
       "    }\n",
       "\n",
       "    .dataframe thead tr th {\n",
       "        text-align: left;\n",
       "    }\n",
       "\n",
       "    .dataframe thead tr:last-of-type th {\n",
       "        text-align: right;\n",
       "    }\n",
       "</style>\n",
       "<table border=\"1\" class=\"dataframe\">\n",
       "  <thead>\n",
       "    <tr>\n",
       "      <th></th>\n",
       "      <th colspan=\"5\" halign=\"left\">AGG</th>\n",
       "      <th colspan=\"5\" halign=\"left\">SPY</th>\n",
       "    </tr>\n",
       "    <tr>\n",
       "      <th></th>\n",
       "      <th>open</th>\n",
       "      <th>high</th>\n",
       "      <th>low</th>\n",
       "      <th>close</th>\n",
       "      <th>volume</th>\n",
       "      <th>open</th>\n",
       "      <th>high</th>\n",
       "      <th>low</th>\n",
       "      <th>close</th>\n",
       "      <th>volume</th>\n",
       "    </tr>\n",
       "    <tr>\n",
       "      <th>time</th>\n",
       "      <th></th>\n",
       "      <th></th>\n",
       "      <th></th>\n",
       "      <th></th>\n",
       "      <th></th>\n",
       "      <th></th>\n",
       "      <th></th>\n",
       "      <th></th>\n",
       "      <th></th>\n",
       "      <th></th>\n",
       "    </tr>\n",
       "  </thead>\n",
       "  <tbody>\n",
       "    <tr>\n",
       "      <th>2018-02-05 00:00:00-05:00</th>\n",
       "      <td>107.12</td>\n",
       "      <td>107.8100</td>\n",
       "      <td>107.00</td>\n",
       "      <td>107.630</td>\n",
       "      <td>4879995</td>\n",
       "      <td>273.47</td>\n",
       "      <td>275.85</td>\n",
       "      <td>263.31</td>\n",
       "      <td>264.18</td>\n",
       "      <td>205971586</td>\n",
       "    </tr>\n",
       "    <tr>\n",
       "      <th>2018-02-06 00:00:00-05:00</th>\n",
       "      <td>107.46</td>\n",
       "      <td>107.5600</td>\n",
       "      <td>107.28</td>\n",
       "      <td>107.300</td>\n",
       "      <td>5489931</td>\n",
       "      <td>259.99</td>\n",
       "      <td>269.70</td>\n",
       "      <td>254.12</td>\n",
       "      <td>269.18</td>\n",
       "      <td>232359323</td>\n",
       "    </tr>\n",
       "    <tr>\n",
       "      <th>2018-02-07 00:00:00-05:00</th>\n",
       "      <td>107.43</td>\n",
       "      <td>107.4369</td>\n",
       "      <td>107.00</td>\n",
       "      <td>107.085</td>\n",
       "      <td>3440626</td>\n",
       "      <td>268.50</td>\n",
       "      <td>272.36</td>\n",
       "      <td>267.63</td>\n",
       "      <td>267.66</td>\n",
       "      <td>112819262</td>\n",
       "    </tr>\n",
       "    <tr>\n",
       "      <th>2018-02-08 00:00:00-05:00</th>\n",
       "      <td>106.84</td>\n",
       "      <td>107.1400</td>\n",
       "      <td>106.77</td>\n",
       "      <td>106.920</td>\n",
       "      <td>4351275</td>\n",
       "      <td>267.97</td>\n",
       "      <td>268.17</td>\n",
       "      <td>257.59</td>\n",
       "      <td>257.72</td>\n",
       "      <td>156654099</td>\n",
       "    </tr>\n",
       "    <tr>\n",
       "      <th>2018-02-09 00:00:00-05:00</th>\n",
       "      <td>106.78</td>\n",
       "      <td>107.0700</td>\n",
       "      <td>106.70</td>\n",
       "      <td>106.760</td>\n",
       "      <td>5603974</td>\n",
       "      <td>260.80</td>\n",
       "      <td>263.61</td>\n",
       "      <td>252.92</td>\n",
       "      <td>261.67</td>\n",
       "      <td>207357854</td>\n",
       "    </tr>\n",
       "  </tbody>\n",
       "</table>\n",
       "</div>"
      ],
      "text/plain": [
       "                              AGG                                         SPY  \\\n",
       "                             open      high     low    close   volume    open   \n",
       "time                                                                            \n",
       "2018-02-05 00:00:00-05:00  107.12  107.8100  107.00  107.630  4879995  273.47   \n",
       "2018-02-06 00:00:00-05:00  107.46  107.5600  107.28  107.300  5489931  259.99   \n",
       "2018-02-07 00:00:00-05:00  107.43  107.4369  107.00  107.085  3440626  268.50   \n",
       "2018-02-08 00:00:00-05:00  106.84  107.1400  106.77  106.920  4351275  267.97   \n",
       "2018-02-09 00:00:00-05:00  106.78  107.0700  106.70  106.760  5603974  260.80   \n",
       "\n",
       "                                                              \n",
       "                             high     low   close     volume  \n",
       "time                                                          \n",
       "2018-02-05 00:00:00-05:00  275.85  263.31  264.18  205971586  \n",
       "2018-02-06 00:00:00-05:00  269.70  254.12  269.18  232359323  \n",
       "2018-02-07 00:00:00-05:00  272.36  267.63  267.66  112819262  \n",
       "2018-02-08 00:00:00-05:00  268.17  257.59  257.72  156654099  \n",
       "2018-02-09 00:00:00-05:00  263.61  252.92  261.67  207357854  "
      ]
     },
     "execution_count": 18,
     "metadata": {},
     "output_type": "execute_result"
    }
   ],
   "source": [
    "# Get 5 years' worth of historical data for SPY and AGG\n",
    "# Set the tickers\n",
    "tickers = [\"AGG\", \"SPY\"]\n",
    "\n",
    "# Set timeframe to '1D' for Alpaca API\n",
    "timeframe = \"1D\"\n",
    "start_date = pd.Timestamp('2017-01-24', tz='America/New_York').isoformat()\n",
    "end_date = pd.Timestamp('2022-01-24', tz='America/New_York').isoformat()\n",
    "\n",
    "# (use a limit=1000 parameter to call the most recent 1000 days of data)\n",
    "df_stock_data=alpaca.get_barset(\n",
    "    tickers,\n",
    "    timeframe,\n",
    "    start=start_date,\n",
    "    end=end_date,\n",
    "    limit=1000\n",
    ").df\n",
    "\n",
    "# Display sample data\n",
    "df_stock_data.head()"
   ]
  },
  {
   "cell_type": "code",
   "execution_count": 26,
   "metadata": {},
   "outputs": [],
   "source": [
    "# Configuring a Monte Carlo simulation to forecast 30 years cumulative returns\n",
    "MC_even_dist = MCSimulation(\n",
    "    portfolio_data = df_stock_data,\n",
    "    weights = [.40,.60],\n",
    "    num_simulation = 500,\n",
    "    num_trading_days = 252*30\n",
    ")"
   ]
  },
  {
   "cell_type": "code",
   "execution_count": 27,
   "metadata": {},
   "outputs": [
    {
     "data": {
      "text/html": [
       "<div>\n",
       "<style scoped>\n",
       "    .dataframe tbody tr th:only-of-type {\n",
       "        vertical-align: middle;\n",
       "    }\n",
       "\n",
       "    .dataframe tbody tr th {\n",
       "        vertical-align: top;\n",
       "    }\n",
       "\n",
       "    .dataframe thead tr th {\n",
       "        text-align: left;\n",
       "    }\n",
       "\n",
       "    .dataframe thead tr:last-of-type th {\n",
       "        text-align: right;\n",
       "    }\n",
       "</style>\n",
       "<table border=\"1\" class=\"dataframe\">\n",
       "  <thead>\n",
       "    <tr>\n",
       "      <th></th>\n",
       "      <th colspan=\"6\" halign=\"left\">AGG</th>\n",
       "      <th colspan=\"6\" halign=\"left\">SPY</th>\n",
       "    </tr>\n",
       "    <tr>\n",
       "      <th></th>\n",
       "      <th>open</th>\n",
       "      <th>high</th>\n",
       "      <th>low</th>\n",
       "      <th>close</th>\n",
       "      <th>volume</th>\n",
       "      <th>daily_return</th>\n",
       "      <th>open</th>\n",
       "      <th>high</th>\n",
       "      <th>low</th>\n",
       "      <th>close</th>\n",
       "      <th>volume</th>\n",
       "      <th>daily_return</th>\n",
       "    </tr>\n",
       "    <tr>\n",
       "      <th>time</th>\n",
       "      <th></th>\n",
       "      <th></th>\n",
       "      <th></th>\n",
       "      <th></th>\n",
       "      <th></th>\n",
       "      <th></th>\n",
       "      <th></th>\n",
       "      <th></th>\n",
       "      <th></th>\n",
       "      <th></th>\n",
       "      <th></th>\n",
       "      <th></th>\n",
       "    </tr>\n",
       "  </thead>\n",
       "  <tbody>\n",
       "    <tr>\n",
       "      <th>2018-02-05 00:00:00-05:00</th>\n",
       "      <td>107.12</td>\n",
       "      <td>107.8100</td>\n",
       "      <td>107.00</td>\n",
       "      <td>107.630</td>\n",
       "      <td>4879995</td>\n",
       "      <td>NaN</td>\n",
       "      <td>273.47</td>\n",
       "      <td>275.85</td>\n",
       "      <td>263.31</td>\n",
       "      <td>264.18</td>\n",
       "      <td>205971586</td>\n",
       "      <td>NaN</td>\n",
       "    </tr>\n",
       "    <tr>\n",
       "      <th>2018-02-06 00:00:00-05:00</th>\n",
       "      <td>107.46</td>\n",
       "      <td>107.5600</td>\n",
       "      <td>107.28</td>\n",
       "      <td>107.300</td>\n",
       "      <td>5489931</td>\n",
       "      <td>-0.003066</td>\n",
       "      <td>259.99</td>\n",
       "      <td>269.70</td>\n",
       "      <td>254.12</td>\n",
       "      <td>269.18</td>\n",
       "      <td>232359323</td>\n",
       "      <td>0.018926</td>\n",
       "    </tr>\n",
       "    <tr>\n",
       "      <th>2018-02-07 00:00:00-05:00</th>\n",
       "      <td>107.43</td>\n",
       "      <td>107.4369</td>\n",
       "      <td>107.00</td>\n",
       "      <td>107.085</td>\n",
       "      <td>3440626</td>\n",
       "      <td>-0.002004</td>\n",
       "      <td>268.50</td>\n",
       "      <td>272.36</td>\n",
       "      <td>267.63</td>\n",
       "      <td>267.66</td>\n",
       "      <td>112819262</td>\n",
       "      <td>-0.005647</td>\n",
       "    </tr>\n",
       "    <tr>\n",
       "      <th>2018-02-08 00:00:00-05:00</th>\n",
       "      <td>106.84</td>\n",
       "      <td>107.1400</td>\n",
       "      <td>106.77</td>\n",
       "      <td>106.920</td>\n",
       "      <td>4351275</td>\n",
       "      <td>-0.001541</td>\n",
       "      <td>267.97</td>\n",
       "      <td>268.17</td>\n",
       "      <td>257.59</td>\n",
       "      <td>257.72</td>\n",
       "      <td>156654099</td>\n",
       "      <td>-0.037137</td>\n",
       "    </tr>\n",
       "    <tr>\n",
       "      <th>2018-02-09 00:00:00-05:00</th>\n",
       "      <td>106.78</td>\n",
       "      <td>107.0700</td>\n",
       "      <td>106.70</td>\n",
       "      <td>106.760</td>\n",
       "      <td>5603974</td>\n",
       "      <td>-0.001496</td>\n",
       "      <td>260.80</td>\n",
       "      <td>263.61</td>\n",
       "      <td>252.92</td>\n",
       "      <td>261.67</td>\n",
       "      <td>207357854</td>\n",
       "      <td>0.015327</td>\n",
       "    </tr>\n",
       "  </tbody>\n",
       "</table>\n",
       "</div>"
      ],
      "text/plain": [
       "                              AGG                                      \\\n",
       "                             open      high     low    close   volume   \n",
       "time                                                                    \n",
       "2018-02-05 00:00:00-05:00  107.12  107.8100  107.00  107.630  4879995   \n",
       "2018-02-06 00:00:00-05:00  107.46  107.5600  107.28  107.300  5489931   \n",
       "2018-02-07 00:00:00-05:00  107.43  107.4369  107.00  107.085  3440626   \n",
       "2018-02-08 00:00:00-05:00  106.84  107.1400  106.77  106.920  4351275   \n",
       "2018-02-09 00:00:00-05:00  106.78  107.0700  106.70  106.760  5603974   \n",
       "\n",
       "                                           SPY                          \\\n",
       "                          daily_return    open    high     low   close   \n",
       "time                                                                     \n",
       "2018-02-05 00:00:00-05:00          NaN  273.47  275.85  263.31  264.18   \n",
       "2018-02-06 00:00:00-05:00    -0.003066  259.99  269.70  254.12  269.18   \n",
       "2018-02-07 00:00:00-05:00    -0.002004  268.50  272.36  267.63  267.66   \n",
       "2018-02-08 00:00:00-05:00    -0.001541  267.97  268.17  257.59  257.72   \n",
       "2018-02-09 00:00:00-05:00    -0.001496  260.80  263.61  252.92  261.67   \n",
       "\n",
       "                                                   \n",
       "                              volume daily_return  \n",
       "time                                               \n",
       "2018-02-05 00:00:00-05:00  205971586          NaN  \n",
       "2018-02-06 00:00:00-05:00  232359323     0.018926  \n",
       "2018-02-07 00:00:00-05:00  112819262    -0.005647  \n",
       "2018-02-08 00:00:00-05:00  156654099    -0.037137  \n",
       "2018-02-09 00:00:00-05:00  207357854     0.015327  "
      ]
     },
     "execution_count": 27,
     "metadata": {},
     "output_type": "execute_result"
    }
   ],
   "source": [
    "# Printing the simulation input data\n",
    "MC_even_dist.portfolio_data.head()"
   ]
  },
  {
   "cell_type": "code",
   "execution_count": 28,
   "metadata": {},
   "outputs": [
    {
     "name": "stdout",
     "output_type": "stream",
     "text": [
      "Running Monte Carlo simulation number 0.\n",
      "Running Monte Carlo simulation number 10.\n",
      "Running Monte Carlo simulation number 20.\n",
      "Running Monte Carlo simulation number 30.\n",
      "Running Monte Carlo simulation number 40.\n",
      "Running Monte Carlo simulation number 50.\n",
      "Running Monte Carlo simulation number 60.\n",
      "Running Monte Carlo simulation number 70.\n",
      "Running Monte Carlo simulation number 80.\n",
      "Running Monte Carlo simulation number 90.\n",
      "Running Monte Carlo simulation number 100.\n"
     ]
    },
    {
     "name": "stderr",
     "output_type": "stream",
     "text": [
      "C:\\Users\\sprin\\Desktop\\uofm-virt-fin-pt-12-2021-u-c\\02-Homework\\05-APIs\\Instructions\\Starter_Code\\MCForecastTools.py:117: PerformanceWarning: DataFrame is highly fragmented.  This is usually the result of calling `frame.insert` many times, which has poor performance.  Consider joining all columns at once using pd.concat(axis=1) instead.  To get a de-fragmented frame, use `newframe = frame.copy()`\n",
      "  portfolio_cumulative_returns[n] = (1 + sim_df.fillna(0)).cumprod()\n"
     ]
    },
    {
     "name": "stdout",
     "output_type": "stream",
     "text": [
      "Running Monte Carlo simulation number 110.\n",
      "Running Monte Carlo simulation number 120.\n",
      "Running Monte Carlo simulation number 130.\n",
      "Running Monte Carlo simulation number 140.\n",
      "Running Monte Carlo simulation number 150.\n",
      "Running Monte Carlo simulation number 160.\n",
      "Running Monte Carlo simulation number 170.\n",
      "Running Monte Carlo simulation number 180.\n",
      "Running Monte Carlo simulation number 190.\n",
      "Running Monte Carlo simulation number 200.\n",
      "Running Monte Carlo simulation number 210.\n",
      "Running Monte Carlo simulation number 220.\n",
      "Running Monte Carlo simulation number 230.\n",
      "Running Monte Carlo simulation number 240.\n",
      "Running Monte Carlo simulation number 250.\n",
      "Running Monte Carlo simulation number 260.\n",
      "Running Monte Carlo simulation number 270.\n",
      "Running Monte Carlo simulation number 280.\n",
      "Running Monte Carlo simulation number 290.\n",
      "Running Monte Carlo simulation number 300.\n",
      "Running Monte Carlo simulation number 310.\n",
      "Running Monte Carlo simulation number 320.\n",
      "Running Monte Carlo simulation number 330.\n",
      "Running Monte Carlo simulation number 340.\n",
      "Running Monte Carlo simulation number 350.\n",
      "Running Monte Carlo simulation number 360.\n",
      "Running Monte Carlo simulation number 370.\n",
      "Running Monte Carlo simulation number 380.\n",
      "Running Monte Carlo simulation number 390.\n",
      "Running Monte Carlo simulation number 400.\n",
      "Running Monte Carlo simulation number 410.\n",
      "Running Monte Carlo simulation number 420.\n",
      "Running Monte Carlo simulation number 430.\n",
      "Running Monte Carlo simulation number 440.\n",
      "Running Monte Carlo simulation number 450.\n",
      "Running Monte Carlo simulation number 460.\n",
      "Running Monte Carlo simulation number 470.\n",
      "Running Monte Carlo simulation number 480.\n",
      "Running Monte Carlo simulation number 490.\n"
     ]
    },
    {
     "data": {
      "text/html": [
       "<div>\n",
       "<style scoped>\n",
       "    .dataframe tbody tr th:only-of-type {\n",
       "        vertical-align: middle;\n",
       "    }\n",
       "\n",
       "    .dataframe tbody tr th {\n",
       "        vertical-align: top;\n",
       "    }\n",
       "\n",
       "    .dataframe thead th {\n",
       "        text-align: right;\n",
       "    }\n",
       "</style>\n",
       "<table border=\"1\" class=\"dataframe\">\n",
       "  <thead>\n",
       "    <tr style=\"text-align: right;\">\n",
       "      <th></th>\n",
       "      <th>0</th>\n",
       "      <th>1</th>\n",
       "      <th>2</th>\n",
       "      <th>3</th>\n",
       "      <th>4</th>\n",
       "      <th>5</th>\n",
       "      <th>6</th>\n",
       "      <th>7</th>\n",
       "      <th>8</th>\n",
       "      <th>9</th>\n",
       "      <th>...</th>\n",
       "      <th>490</th>\n",
       "      <th>491</th>\n",
       "      <th>492</th>\n",
       "      <th>493</th>\n",
       "      <th>494</th>\n",
       "      <th>495</th>\n",
       "      <th>496</th>\n",
       "      <th>497</th>\n",
       "      <th>498</th>\n",
       "      <th>499</th>\n",
       "    </tr>\n",
       "  </thead>\n",
       "  <tbody>\n",
       "    <tr>\n",
       "      <th>0</th>\n",
       "      <td>1.000000</td>\n",
       "      <td>1.000000</td>\n",
       "      <td>1.000000</td>\n",
       "      <td>1.000000</td>\n",
       "      <td>1.000000</td>\n",
       "      <td>1.000000</td>\n",
       "      <td>1.000000</td>\n",
       "      <td>1.000000</td>\n",
       "      <td>1.000000</td>\n",
       "      <td>1.000000</td>\n",
       "      <td>...</td>\n",
       "      <td>1.000000</td>\n",
       "      <td>1.000000</td>\n",
       "      <td>1.000000</td>\n",
       "      <td>1.000000</td>\n",
       "      <td>1.000000</td>\n",
       "      <td>1.000000</td>\n",
       "      <td>1.000000</td>\n",
       "      <td>1.000000</td>\n",
       "      <td>1.000000</td>\n",
       "      <td>1.000000</td>\n",
       "    </tr>\n",
       "    <tr>\n",
       "      <th>1</th>\n",
       "      <td>1.006709</td>\n",
       "      <td>1.001556</td>\n",
       "      <td>1.005018</td>\n",
       "      <td>0.992731</td>\n",
       "      <td>0.995797</td>\n",
       "      <td>1.003868</td>\n",
       "      <td>1.001001</td>\n",
       "      <td>0.997421</td>\n",
       "      <td>1.011500</td>\n",
       "      <td>0.996840</td>\n",
       "      <td>...</td>\n",
       "      <td>0.999774</td>\n",
       "      <td>0.999601</td>\n",
       "      <td>0.994358</td>\n",
       "      <td>1.001944</td>\n",
       "      <td>0.992833</td>\n",
       "      <td>0.993845</td>\n",
       "      <td>0.997660</td>\n",
       "      <td>0.991206</td>\n",
       "      <td>0.995167</td>\n",
       "      <td>0.990467</td>\n",
       "    </tr>\n",
       "    <tr>\n",
       "      <th>2</th>\n",
       "      <td>0.999031</td>\n",
       "      <td>1.009202</td>\n",
       "      <td>1.014862</td>\n",
       "      <td>0.989282</td>\n",
       "      <td>1.004560</td>\n",
       "      <td>1.013376</td>\n",
       "      <td>0.982051</td>\n",
       "      <td>0.998143</td>\n",
       "      <td>1.025017</td>\n",
       "      <td>1.019140</td>\n",
       "      <td>...</td>\n",
       "      <td>0.984167</td>\n",
       "      <td>0.997502</td>\n",
       "      <td>0.989703</td>\n",
       "      <td>1.002360</td>\n",
       "      <td>1.000888</td>\n",
       "      <td>0.998371</td>\n",
       "      <td>0.981204</td>\n",
       "      <td>0.976672</td>\n",
       "      <td>0.993900</td>\n",
       "      <td>0.984196</td>\n",
       "    </tr>\n",
       "    <tr>\n",
       "      <th>3</th>\n",
       "      <td>1.002495</td>\n",
       "      <td>1.013181</td>\n",
       "      <td>1.017776</td>\n",
       "      <td>0.992802</td>\n",
       "      <td>1.010372</td>\n",
       "      <td>1.022415</td>\n",
       "      <td>0.972580</td>\n",
       "      <td>0.993104</td>\n",
       "      <td>1.029713</td>\n",
       "      <td>0.994018</td>\n",
       "      <td>...</td>\n",
       "      <td>0.991520</td>\n",
       "      <td>1.008653</td>\n",
       "      <td>0.983508</td>\n",
       "      <td>1.011031</td>\n",
       "      <td>1.009280</td>\n",
       "      <td>1.001140</td>\n",
       "      <td>0.984581</td>\n",
       "      <td>0.984615</td>\n",
       "      <td>0.991179</td>\n",
       "      <td>0.991780</td>\n",
       "    </tr>\n",
       "    <tr>\n",
       "      <th>4</th>\n",
       "      <td>1.006283</td>\n",
       "      <td>1.012520</td>\n",
       "      <td>1.015043</td>\n",
       "      <td>0.998299</td>\n",
       "      <td>0.991570</td>\n",
       "      <td>1.013949</td>\n",
       "      <td>0.985062</td>\n",
       "      <td>0.994942</td>\n",
       "      <td>1.039351</td>\n",
       "      <td>1.000903</td>\n",
       "      <td>...</td>\n",
       "      <td>1.005649</td>\n",
       "      <td>1.013401</td>\n",
       "      <td>0.985050</td>\n",
       "      <td>1.021844</td>\n",
       "      <td>1.014745</td>\n",
       "      <td>0.992355</td>\n",
       "      <td>0.986980</td>\n",
       "      <td>0.978345</td>\n",
       "      <td>0.991727</td>\n",
       "      <td>0.991295</td>\n",
       "    </tr>\n",
       "    <tr>\n",
       "      <th>...</th>\n",
       "      <td>...</td>\n",
       "      <td>...</td>\n",
       "      <td>...</td>\n",
       "      <td>...</td>\n",
       "      <td>...</td>\n",
       "      <td>...</td>\n",
       "      <td>...</td>\n",
       "      <td>...</td>\n",
       "      <td>...</td>\n",
       "      <td>...</td>\n",
       "      <td>...</td>\n",
       "      <td>...</td>\n",
       "      <td>...</td>\n",
       "      <td>...</td>\n",
       "      <td>...</td>\n",
       "      <td>...</td>\n",
       "      <td>...</td>\n",
       "      <td>...</td>\n",
       "      <td>...</td>\n",
       "      <td>...</td>\n",
       "      <td>...</td>\n",
       "    </tr>\n",
       "    <tr>\n",
       "      <th>7556</th>\n",
       "      <td>15.861817</td>\n",
       "      <td>8.370001</td>\n",
       "      <td>11.893368</td>\n",
       "      <td>15.942513</td>\n",
       "      <td>6.485290</td>\n",
       "      <td>21.717020</td>\n",
       "      <td>11.405987</td>\n",
       "      <td>10.391282</td>\n",
       "      <td>55.246997</td>\n",
       "      <td>19.413355</td>\n",
       "      <td>...</td>\n",
       "      <td>37.587299</td>\n",
       "      <td>8.264340</td>\n",
       "      <td>17.132003</td>\n",
       "      <td>25.415571</td>\n",
       "      <td>27.218274</td>\n",
       "      <td>12.116161</td>\n",
       "      <td>16.793781</td>\n",
       "      <td>21.630941</td>\n",
       "      <td>11.485518</td>\n",
       "      <td>15.011231</td>\n",
       "    </tr>\n",
       "    <tr>\n",
       "      <th>7557</th>\n",
       "      <td>15.837367</td>\n",
       "      <td>8.402167</td>\n",
       "      <td>11.965668</td>\n",
       "      <td>15.998911</td>\n",
       "      <td>6.482307</td>\n",
       "      <td>21.966063</td>\n",
       "      <td>11.364642</td>\n",
       "      <td>10.442519</td>\n",
       "      <td>54.668725</td>\n",
       "      <td>19.363085</td>\n",
       "      <td>...</td>\n",
       "      <td>37.625903</td>\n",
       "      <td>8.163592</td>\n",
       "      <td>17.045159</td>\n",
       "      <td>25.462936</td>\n",
       "      <td>27.250033</td>\n",
       "      <td>11.935952</td>\n",
       "      <td>16.664585</td>\n",
       "      <td>21.499774</td>\n",
       "      <td>11.481292</td>\n",
       "      <td>15.027978</td>\n",
       "    </tr>\n",
       "    <tr>\n",
       "      <th>7558</th>\n",
       "      <td>15.719599</td>\n",
       "      <td>8.418203</td>\n",
       "      <td>11.771342</td>\n",
       "      <td>16.124026</td>\n",
       "      <td>6.456998</td>\n",
       "      <td>22.210875</td>\n",
       "      <td>11.370307</td>\n",
       "      <td>10.487759</td>\n",
       "      <td>54.254614</td>\n",
       "      <td>19.159430</td>\n",
       "      <td>...</td>\n",
       "      <td>37.772979</td>\n",
       "      <td>8.144105</td>\n",
       "      <td>17.004634</td>\n",
       "      <td>25.581101</td>\n",
       "      <td>27.091344</td>\n",
       "      <td>11.953580</td>\n",
       "      <td>16.495017</td>\n",
       "      <td>21.347022</td>\n",
       "      <td>11.463604</td>\n",
       "      <td>15.023728</td>\n",
       "    </tr>\n",
       "    <tr>\n",
       "      <th>7559</th>\n",
       "      <td>15.526046</td>\n",
       "      <td>8.428068</td>\n",
       "      <td>11.603163</td>\n",
       "      <td>16.134457</td>\n",
       "      <td>6.481035</td>\n",
       "      <td>21.926802</td>\n",
       "      <td>11.290832</td>\n",
       "      <td>10.652138</td>\n",
       "      <td>54.907263</td>\n",
       "      <td>19.119278</td>\n",
       "      <td>...</td>\n",
       "      <td>37.722044</td>\n",
       "      <td>8.133866</td>\n",
       "      <td>17.181251</td>\n",
       "      <td>25.463080</td>\n",
       "      <td>27.140021</td>\n",
       "      <td>11.896426</td>\n",
       "      <td>16.707257</td>\n",
       "      <td>21.493118</td>\n",
       "      <td>11.477900</td>\n",
       "      <td>15.105031</td>\n",
       "    </tr>\n",
       "    <tr>\n",
       "      <th>7560</th>\n",
       "      <td>15.659854</td>\n",
       "      <td>8.378292</td>\n",
       "      <td>11.695303</td>\n",
       "      <td>16.303877</td>\n",
       "      <td>6.409222</td>\n",
       "      <td>22.065481</td>\n",
       "      <td>11.247415</td>\n",
       "      <td>10.526840</td>\n",
       "      <td>55.798619</td>\n",
       "      <td>18.965510</td>\n",
       "      <td>...</td>\n",
       "      <td>37.816836</td>\n",
       "      <td>8.086249</td>\n",
       "      <td>17.162000</td>\n",
       "      <td>25.370584</td>\n",
       "      <td>27.289473</td>\n",
       "      <td>11.854716</td>\n",
       "      <td>16.751537</td>\n",
       "      <td>21.582844</td>\n",
       "      <td>11.618719</td>\n",
       "      <td>15.176886</td>\n",
       "    </tr>\n",
       "  </tbody>\n",
       "</table>\n",
       "<p>7561 rows × 500 columns</p>\n",
       "</div>"
      ],
      "text/plain": [
       "            0         1          2          3         4          5    \\\n",
       "0      1.000000  1.000000   1.000000   1.000000  1.000000   1.000000   \n",
       "1      1.006709  1.001556   1.005018   0.992731  0.995797   1.003868   \n",
       "2      0.999031  1.009202   1.014862   0.989282  1.004560   1.013376   \n",
       "3      1.002495  1.013181   1.017776   0.992802  1.010372   1.022415   \n",
       "4      1.006283  1.012520   1.015043   0.998299  0.991570   1.013949   \n",
       "...         ...       ...        ...        ...       ...        ...   \n",
       "7556  15.861817  8.370001  11.893368  15.942513  6.485290  21.717020   \n",
       "7557  15.837367  8.402167  11.965668  15.998911  6.482307  21.966063   \n",
       "7558  15.719599  8.418203  11.771342  16.124026  6.456998  22.210875   \n",
       "7559  15.526046  8.428068  11.603163  16.134457  6.481035  21.926802   \n",
       "7560  15.659854  8.378292  11.695303  16.303877  6.409222  22.065481   \n",
       "\n",
       "            6          7          8          9    ...        490       491  \\\n",
       "0      1.000000   1.000000   1.000000   1.000000  ...   1.000000  1.000000   \n",
       "1      1.001001   0.997421   1.011500   0.996840  ...   0.999774  0.999601   \n",
       "2      0.982051   0.998143   1.025017   1.019140  ...   0.984167  0.997502   \n",
       "3      0.972580   0.993104   1.029713   0.994018  ...   0.991520  1.008653   \n",
       "4      0.985062   0.994942   1.039351   1.000903  ...   1.005649  1.013401   \n",
       "...         ...        ...        ...        ...  ...        ...       ...   \n",
       "7556  11.405987  10.391282  55.246997  19.413355  ...  37.587299  8.264340   \n",
       "7557  11.364642  10.442519  54.668725  19.363085  ...  37.625903  8.163592   \n",
       "7558  11.370307  10.487759  54.254614  19.159430  ...  37.772979  8.144105   \n",
       "7559  11.290832  10.652138  54.907263  19.119278  ...  37.722044  8.133866   \n",
       "7560  11.247415  10.526840  55.798619  18.965510  ...  37.816836  8.086249   \n",
       "\n",
       "            492        493        494        495        496        497  \\\n",
       "0      1.000000   1.000000   1.000000   1.000000   1.000000   1.000000   \n",
       "1      0.994358   1.001944   0.992833   0.993845   0.997660   0.991206   \n",
       "2      0.989703   1.002360   1.000888   0.998371   0.981204   0.976672   \n",
       "3      0.983508   1.011031   1.009280   1.001140   0.984581   0.984615   \n",
       "4      0.985050   1.021844   1.014745   0.992355   0.986980   0.978345   \n",
       "...         ...        ...        ...        ...        ...        ...   \n",
       "7556  17.132003  25.415571  27.218274  12.116161  16.793781  21.630941   \n",
       "7557  17.045159  25.462936  27.250033  11.935952  16.664585  21.499774   \n",
       "7558  17.004634  25.581101  27.091344  11.953580  16.495017  21.347022   \n",
       "7559  17.181251  25.463080  27.140021  11.896426  16.707257  21.493118   \n",
       "7560  17.162000  25.370584  27.289473  11.854716  16.751537  21.582844   \n",
       "\n",
       "            498        499  \n",
       "0      1.000000   1.000000  \n",
       "1      0.995167   0.990467  \n",
       "2      0.993900   0.984196  \n",
       "3      0.991179   0.991780  \n",
       "4      0.991727   0.991295  \n",
       "...         ...        ...  \n",
       "7556  11.485518  15.011231  \n",
       "7557  11.481292  15.027978  \n",
       "7558  11.463604  15.023728  \n",
       "7559  11.477900  15.105031  \n",
       "7560  11.618719  15.176886  \n",
       "\n",
       "[7561 rows x 500 columns]"
      ]
     },
     "execution_count": 28,
     "metadata": {},
     "output_type": "execute_result"
    }
   ],
   "source": [
    "# Running a Monte Carlo simulation to forecast 30 years cumulative returns\n",
    "MC_even_dist.calc_cumulative_return()"
   ]
  },
  {
   "cell_type": "code",
   "execution_count": 29,
   "metadata": {},
   "outputs": [
    {
     "data": {
      "image/png": "[encoded data removed]",
      "text/plain": [
       "<Figure size 432x288 with 1 Axes>"
      ]
     },
     "metadata": {
      "needs_background": "light"
     },
     "output_type": "display_data"
    }
   ],
   "source": [
    "# Plot simulation outcomes\n",
    "line_plot = MC_even_dist.plot_simulation()"
   ]
  },
  {
   "cell_type": "code",
   "execution_count": 30,
   "metadata": {},
   "outputs": [
    {
     "data": {
      "image/png": "[encoded data removed]",
      "text/plain": [
       "<Figure size 432x288 with 1 Axes>"
      ]
     },
     "metadata": {
      "needs_background": "light"
     },
     "output_type": "display_data"
    }
   ],
   "source": [
    "# Plot probability distribution and confidence intervals\n",
    "dist_plot = MC_even_dist.plot_distribution()"
   ]
  },
  {
   "cell_type": "markdown",
   "metadata": {},
   "source": [
    "### Retirement Analysis"
   ]
  },
  {
   "cell_type": "code",
   "execution_count": 33,
   "metadata": {},
   "outputs": [
    {
     "name": "stdout",
     "output_type": "stream",
     "text": [
      "count           500.000000\n",
      "mean             17.414630\n",
      "std              13.380045\n",
      "min               1.367958\n",
      "25%               8.827752\n",
      "50%              13.643639\n",
      "75%              21.318621\n",
      "max             121.439623\n",
      "95% CI Lower      3.393403\n",
      "95% CI Upper     54.722503\n",
      "Name: 7560, dtype: float64\n"
     ]
    }
   ],
   "source": [
    "# Fetch summary statistics from the Monte Carlo simulation results\n",
    "even_tbl = MC_even_dist.summarize_cumulative_return()\n",
    "\n",
    "# Print summary statistics\n",
    "print(even_tbl)"
   ]
  },
  {
   "cell_type": "markdown",
   "metadata": {},
   "source": [
    "### Calculate the expected portfolio return at the `95%` lower and upper confidence intervals based on a `$20,000` initial investment."
   ]
  },
  {
   "cell_type": "code",
   "execution_count": 43,
   "metadata": {},
   "outputs": [
    {
     "name": "stdout",
     "output_type": "stream",
     "text": [
      "There is a 95% chance that an initial investment of $20000 in the portfolio over the next 30 years will end within the range of $67868.05 and $1094450.06\n"
     ]
    }
   ],
   "source": [
    "# Set initial investment\n",
    "initial_investment = 20000\n",
    "\n",
    "# Use the lower and upper `95%` confidence intervals to calculate the range of the possible outcomes of our $20,000\n",
    "ci_lower = round(even_tbl[8]*initial_investment,2)\n",
    "ci_upper = round(even_tbl[9]*initial_investment,2)\n",
    "\n",
    "\n",
    "# Print results\n",
    "print(f\"There is a 95% chance that an initial investment of ${initial_investment} in the portfolio\"\n",
    "      f\" over the next 30 years will end within the range of\"\n",
    "      f\" ${ci_lower} and ${ci_upper}\")"
   ]
  },
  {
   "cell_type": "markdown",
   "metadata": {},
   "source": [
    "### Calculate the expected portfolio return at the `95%` lower and upper confidence intervals based on a `50%` increase in the initial investment."
   ]
  },
  {
   "cell_type": "code",
   "execution_count": 44,
   "metadata": {},
   "outputs": [
    {
     "name": "stdout",
     "output_type": "stream",
     "text": [
      "There is a 95% chance that an initial investment of $30000.0 in the portfolio over the next 30 years will end within in the range of $101802.08 and $1641675.09\n"
     ]
    }
   ],
   "source": [
    "# Set initial investment\n",
    "initial_investment = 20000 * 1.5\n",
    "\n",
    "# Use the lower and upper `95%` confidence intervals to calculate the range of the possible outcomes of our $30,000\n",
    "ci_lower = round(even_tbl[8]*initial_investment,2)\n",
    "ci_upper = round(even_tbl[9]*initial_investment,2)\n",
    "\n",
    "\n",
    "# Print results\n",
    "print(f\"There is a 95% chance that an initial investment of ${initial_investment} in the portfolio\"\n",
    "      f\" over the next 30 years will end within in the range of\"\n",
    "      f\" ${ci_lower} and ${ci_upper}\")"
   ]
  },
  {
   "cell_type": "markdown",
   "metadata": {},
   "source": [
    "## Optional Challenge - Early Retirement\n",
    "\n",
    "\n",
    "### Five Years Retirement Option"
   ]
  },
  {
   "cell_type": "code",
   "execution_count": null,
   "metadata": {},
   "outputs": [],
   "source": [
    "# Configuring a Monte Carlo simulation to forecast 5 years cumulative returns\n",
    "# YOUR CODE HERE!"
   ]
  },
  {
   "cell_type": "code",
   "execution_count": null,
   "metadata": {},
   "outputs": [],
   "source": [
    "# Running a Monte Carlo simulation to forecast 5 years cumulative returns\n",
    "# YOUR CODE HERE!"
   ]
  },
  {
   "cell_type": "code",
   "execution_count": null,
   "metadata": {},
   "outputs": [],
   "source": [
    "# Plot simulation outcomes\n",
    "# YOUR CODE HERE!"
   ]
  },
  {
   "cell_type": "code",
   "execution_count": null,
   "metadata": {},
   "outputs": [],
   "source": [
    "# Plot probability distribution and confidence intervals\n",
    "# YOUR CODE HERE!"
   ]
  },
  {
   "cell_type": "code",
   "execution_count": null,
   "metadata": {},
   "outputs": [],
   "source": [
    "# Fetch summary statistics from the Monte Carlo simulation results\n",
    "# YOUR CODE HERE!\n",
    "\n",
    "# Print summary statistics\n",
    "# YOUR CODE HERE!"
   ]
  },
  {
   "cell_type": "code",
   "execution_count": null,
   "metadata": {},
   "outputs": [],
   "source": [
    "# Set initial investment\n",
    "# YOUR CODE HERE!\n",
    "\n",
    "# Use the lower and upper `95%` confidence intervals to calculate the range of the possible outcomes of our $60,000\n",
    "# YOUR CODE HERE!\n",
    "\n",
    "# Print results\n",
    "print(f\"There is a 95% chance that an initial investment of ${initial_investment} in the portfolio\"\n",
    "      f\" over the next 5 years will end within in the range of\"\n",
    "      f\" ${ci_lower_five} and ${ci_upper_five}\")"
   ]
  },
  {
   "cell_type": "markdown",
   "metadata": {},
   "source": [
    "### Ten Years Retirement Option"
   ]
  },
  {
   "cell_type": "code",
   "execution_count": null,
   "metadata": {},
   "outputs": [],
   "source": [
    "# Configuring a Monte Carlo simulation to forecast 10 years cumulative returns\n",
    "# YOUR CODE HERE!"
   ]
  },
  {
   "cell_type": "code",
   "execution_count": null,
   "metadata": {},
   "outputs": [],
   "source": [
    "# Running a Monte Carlo simulation to forecast 10 years cumulative returns\n",
    "# YOUR CODE HERE!"
   ]
  },
  {
   "cell_type": "code",
   "execution_count": null,
   "metadata": {},
   "outputs": [],
   "source": [
    "# Plot simulation outcomes\n",
    "# YOUR CODE HERE!"
   ]
  },
  {
   "cell_type": "code",
   "execution_count": null,
   "metadata": {},
   "outputs": [],
   "source": [
    "# Plot probability distribution and confidence intervals\n",
    "# YOUR CODE HERE!"
   ]
  },
  {
   "cell_type": "code",
   "execution_count": null,
   "metadata": {},
   "outputs": [],
   "source": [
    "# Fetch summary statistics from the Monte Carlo simulation results\n",
    "# YOUR CODE HERE!\n",
    "\n",
    "# Print summary statistics\n",
    "# YOUR CODE HERE!"
   ]
  },
  {
   "cell_type": "code",
   "execution_count": null,
   "metadata": {},
   "outputs": [],
   "source": [
    "# Set initial investment\n",
    "# YOUR CODE HERE!\n",
    "\n",
    "# Use the lower and upper `95%` confidence intervals to calculate the range of the possible outcomes of our $60,000\n",
    "# YOUR CODE HERE!\n",
    "\n",
    "# Print results\n",
    "print(f\"There is a 95% chance that an initial investment of ${initial_investment} in the portfolio\"\n",
    "      f\" over the next 10 years will end within in the range of\"\n",
    "      f\" ${ci_lower_ten} and ${ci_upper_ten}\")"
   ]
  },
  {
   "cell_type": "code",
   "execution_count": null,
   "metadata": {},
   "outputs": [],
   "source": []
  }
 ],
 "metadata": {
  "kernelspec": {
   "display_name": "Python [conda env:root]",
   "language": "python",
   "name": "conda-root-py"
  },
  "language_info": {
   "codemirror_mode": {
    "name": "ipython",
    "version": 3
   },
   "file_extension": ".py",
   "mimetype": "text/x-python",
   "name": "python",
   "nbconvert_exporter": "python",
   "pygments_lexer": "ipython3",
   "version": "3.7.11"
  },
  "nteract": {
   "version": "0.28.0"
  }
 },
 "nbformat": 4,
 "nbformat_minor": 4
}
